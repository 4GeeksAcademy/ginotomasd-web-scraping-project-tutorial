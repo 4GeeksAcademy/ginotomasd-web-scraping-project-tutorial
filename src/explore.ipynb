{
    "cells": [
        {
            "cell_type": "markdown",
            "metadata": {},
            "source": [
                "# Explore here\n",
                "\n",
                "It's recommended to use this notebook for exploration purposes."
            ]
        },
        {
            "cell_type": "code",
            "execution_count": null,
            "metadata": {},
            "outputs": [
                {
                    "name": "stdout",
                    "output_type": "stream",
                    "text": [
                        "['Rank']\n"
                    ]
                }
            ],
            "source": [
                "import os\n",
                "from bs4 import BeautifulSoup\n",
                "import requests\n",
                "import time\n",
                "import sqlite3\n",
                "import matplotlib.pyplot as plt\n",
                "import seaborn as sns\n",
                "import pandas as pd\n",
                "\n",
                "resource_url = \"https://en.wikipedia.org/wiki/List_of_Spotify_streaming_records\"\n",
                "\n",
                "response = requests.get(resource_url, time.sleep(10))\n",
                "if response:\n",
                "    soup = BeautifulSoup(response.text, 'html')\n",
                "    soup\n",
                "data = []\n",
                "# Find the table\n",
                "table = soup.find('table', class_='wikitable')\n",
                "# Find the header\n",
                "header = table.find('tr')\n",
                "# Find the header columns\n",
                "header_row = header.find('th')\n",
                "# We loop through them and print them in text\n",
                "for th in header_row:\n",
                "    title = th.text.strip()"
            ]
        }
    ],
    "metadata": {
        "kernelspec": {
            "display_name": "Python 3",
            "language": "python",
            "name": "python3"
        },
        "language_info": {
            "codemirror_mode": {
                "name": "ipython",
                "version": 3
            },
            "file_extension": ".py",
            "mimetype": "text/x-python",
            "name": "python",
            "nbconvert_exporter": "python",
            "pygments_lexer": "ipython3",
            "version": "3.11.4"
        },
        "orig_nbformat": 4
    },
    "nbformat": 4,
    "nbformat_minor": 2
}
